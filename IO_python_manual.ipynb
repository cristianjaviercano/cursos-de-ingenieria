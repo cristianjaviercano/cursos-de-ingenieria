{
  "cells": [
    {
      "cell_type": "markdown",
      "source": [
        "#Programacion Lineal Con python\n",
        " - Msc Cristian Javier Cano M"
      ],
      "metadata": {
        "id": "XqRtRopPiXrB"
      },
      "id": "XqRtRopPiXrB"
    },
    {
      "cell_type": "markdown",
      "source": [
        "## generalidades de la PL\n",
        "\n",
        "Una manera de resumir las fases usuales —traslapadas— de un estudio de investigación de operaciones es la siguiente:\n",
        "\n",
        "1. Definición del problema de interés y recolección de datos relevantes.\n",
        "2. Formulación de un modelo matemático que represente el problema.\n",
        "3. Desarrollo de un procedimiento basado en computadora para derivar una solución para el\n",
        "problema a partir del modelo.\n",
        "4. Prueba del modelo y mejoramiento de acuerdo con las necesidades.\n",
        "5. Preparación para la aplicación del modelo prescrito por la administración.\n",
        "6. Implementación.\n",
        "\n",
        "Fuente: Introduccion a la programacion de operaciones - Mc graw ahill 9na edicion."
      ],
      "metadata": {
        "id": "szibVejtik9T"
      },
      "id": "szibVejtik9T"
    },
    {
      "cell_type": "markdown",
      "source": [
        "1. Las variables de decisión que pretendemos determinar.\n",
        "2. El objetivo (lameta) que necesitamos optimizar(maximizarominimizar).\n",
        "3. Las restricciones que la solución debe satisfacer.\n",
        "\n",
        "La definición correcta de las variables de decisión es un primer paso esencial en el desarrollo del modelo. Una vez hecha, la tarea de construir la función objetivo y las restricciones es más directa.\n",
        "\n"
      ],
      "metadata": {
        "id": "FlHyxlURIvpR"
      },
      "id": "FlHyxlURIvpR"
    },
    {
      "cell_type": "markdown",
      "source": [
        "#### Conceptos Generales:\n",
        "\n",
        "1. El término $C_{ij}$ es el coeficiente de contribución, es decir mide el aporte de las variables a la optimización de la función.\n",
        "Por su parte, el término $a_{ij}$ coeficiente técnico es un valor estandarizado de acuerdo con un estudio de tiempo y movimientos, que indica lo requerido por la variable, según la disponibilidad de recursos. Ello se puede expresar como la cantidad de recurso j que se necesita por cada unidad de la actividad i.\n",
        "2. El $b_i$ significa la cantidad de recursos con que se cuenta para resolver el problema.\n",
        "\n",
        "3. la $X_{ij}$ es la cantidad de unidades de la actividad i obtenida del recurso j.\n",
        "\n",
        "4. *Solución factible*. Es aquella solución que satisface las condiciones limitantes de los recursos.\n",
        "\n",
        "5. *Solución factible básica* Es la que se posee con no más de m componentes positivos.\n",
        "\n",
        "6. *Solución básica factible degenerada*. Es el caso cuando hay menos de m componentes positivos de las variables X; ello quiere decir que en el área de solución existe un valor cero.\n",
        "\n",
        "7. *Región de factibilidad* Es el conjunto de todas las posibles soluciones factibles.\n",
        "\n",
        "8. *Convexidad*. Cuando existe una solución factible, hay una región convexa. Una región es convexa, si un plano es convexo; un subconjunto del plano es convexo; si para cada par de puntos A, B los puntos contienen todo el segmento rectilíneo que los conecta.\n",
        "\n",
        "***\n",
        "\n",
        "### Caracteristicas del modelo Lineal\n",
        "\n",
        "1. La condición de linealidad; es decir no se deben considerar las siguientes expresiones; $X_1X_2$; $a^2X_1$; $X_1^2 a1$; Log X1.\n",
        "2. No se aceptan expresiones en restricciones xj < 0 ; es decir, tener valores de variables negativas.\n",
        "3. No contar con limitaciones de recursos negativos (-bi)\n",
        "\n",
        "***\n",
        "\n",
        "###Formulacion de casos:\n",
        "\n",
        "La empresa Babilonia produce tres variedades de productos para comercializarlos en el mercado nacional, la demanda actual del mercado es de 20000 unidades. Para producir una unidad del producto 1, se requieren cuatro unidades de materia prima y seis de insumos; para producir una unidad del producto 2, se requieren tres unidades de materia prima y siete de insumo, para producir una unidad del producto 3 se requieren cinco unidades de materia prima y cuatro de insumos; la disponibilidad de materia prima en el mercado es de 30000 unidades y de insumo 54000 unidades. Además, los productos requieren para su producción, 60, 45 y 53 horas de mano de obra, respectivamente, y cuenta con una disponibilidad total de 4500 horas. Si los Insumos se venden a \\$250 pesos por unidad del producto 1, \\$310 pesos por unidad del producto 2, y \\$270 pesos por unidad del producto 3.\n",
        "¿Determine cuántas unidades deben producirse de cada producto?, y ¿cuánto serían sus ingresos totales? Formule un problema y aplique las técnicas de los modelos lineales para encontrar una solución óptima."
      ],
      "metadata": {
        "id": "X_NImIJVw0X-"
      },
      "id": "X_NImIJVw0X-"
    },
    {
      "cell_type": "markdown",
      "source": [
        "### Ejemplo 1:\n",
        "\n",
        "La WYNDOR GLASS CO. produce artículos de vidrio de alta calidad, entre ellos ventanas y puertas de vidrio. Tiene tres plantas. Los marcos y molduras de aluminio se hacen en la planta 1, los de madera en la planta 2; la 3 produce el vidrio y ensambla los productos.\n",
        "Debido a una reducción de las ganancias, la alta administración ha decidido reorganizar la línea de producción de la compañía. Se discontinuarán varios productos no rentables y se dejará libre una parte de la capacidad de producción para emprender la fabricación de dos productos nuevos cuyas ventas potenciales son muy prometedoras:\n",
        "\n",
        "- Producto 1: una puerta de vidrio de 8 pies con marco de aluminio\n",
        "- Producto 2: una ventana corrediza con marco de madera de 4 por 6 pies\n",
        "\n",
        "El *producto 1* requiere parte de la capacidad de producción en las plantas 1 y 3 y nada en la planta 2.\n",
        "El *producto 2* sólo necesita trabajo en las plantas 2 y 3. La división de comercialización ha concluido que la compañía puede vender todos los productos que se puedan fabricar en las plantas.\n",
        "\n",
        "Sin embargo, como ambos productos competirían por la misma capacidad de producción en la planta 3, no está claro cuál \"mezcla\" de productos sería la más rentable. Por lo tanto, se ha formado un equipo de IO para estudiar este problema.\n",
        "\n"
      ],
      "metadata": {
        "id": "8TLsPtGYjakr"
      },
      "id": "8TLsPtGYjakr"
    },
    {
      "cell_type": "markdown",
      "source": [
        "### Definicion del Problema:\n",
        "- identificar los objetivos del estudio.\n",
        "- Como consecuencia de ellas se desarrolló la siguiente definición del problema:\n",
        "\n",
        "Determinar cuáles tasas de producción deben tener los dos productos con el fin de maximizar las utilidades totales, sujetas a las restricciones impuestas por las capacidades de producción limitadas disponibles en las tres plantas. (Cada producto se fabricará en lotes de 20 unidades, de manera que la tasa de producción está definida como el número de lotes que se producen a la semana.) Se permite cualquier combinación de tasas de producción que satisfaga estas restricciones, incluso no fabricar uno de los productos y elaborar todo lo que sea posible del otro.\n",
        "\n",
        "El equipo de IO también identificó los datos que necesitaba reunir:\n",
        "\n",
        "1. Número de horas de producción disponibles por semana en cada planta para fabricar estos nuevos productos. (Casi todo el tiempo de estas plantas está comprometido con los productos actuales, lo que limita la capacidad para manufacturar nuevos productos.)\n",
        "\n",
        "2. Número de horas de fabricación que se emplea para producir cada lote de cada artículo nuevo en cada una de las plantas.\n",
        "\n",
        "3. La ganancia por lote de cada producto nuevo. (Se escogió la ganancia por lote producido como una medida adecuada una vez que el equipo llegó a la conclusión de que la ganancia incremental de cada lote adicional producido sería, en esencia, constante, sin que importase el número total de lotes producidos. Debido a que no se incurre en costos sustanciales para iniciar"
      ],
      "metadata": {
        "id": "JIQSrV43kVct"
      },
      "id": "JIQSrV43kVct"
    },
    {
      "cell_type": "markdown",
      "source": [
        "#### Formulacion como Un problemas de PL\n",
        "\n",
        "La definición del problema planteado indica que las decisiones que deben tomarse son el número de lotes de los productos que se fabricarán semanalmente, de manera que se **maximice** su ganancia total. Para formular el modelo matemático de programación lineal de este problema se define:\n",
        "\n",
        "1. $X_1 = Número\\ de\\ lotes\\ del\\ P_1\\ que\\ se\\ deben\\ fabricar\\ por\\ semana$ \\\\\n",
        "2. $X_2 = Número\\ de\\ lotes\\ del\\ P_2\\ que\\ se\\ deben\\ fabricar\\ por\\ semana$ \\\\\n",
        "3. $Z= Ganancia\\ Semanal\\ Total$\n",
        "\n",
        "\n",
        "\n",
        "\\begin{array}{c|cl|c}\n",
        "& tiempo\\ de\\ produccion\\, por\\ lote\\ por\\ hora &  \\\\ \\hline\n",
        "& Productos   \\\\ \\hline\n",
        "Planta & 1 & 2 & tiempo\\ de\\ produccion\\ por\\ lote \\\\ \\hline\n",
        "1 & 1 & 0 & 4 \\\\\n",
        "2 & 0 & 2 & 12 \\\\\n",
        "3 & 3 & 2 & 18 \\\\ \\hline\n",
        "Ganancias\\ por\\ Lote & $3.000 & $5.000 &\n",
        "\\end{array}\n",
        "\n",
        "- *Donde:* $X_1$ y $X_2$ son las **Variables de Decision** con estas variables podemos Definir la **Funcion objetivo**\n",
        "\n",
        "$$\n",
        "Z_{Max} = 3x_1 + 5x_2\\ (1)\n",
        "$$\n",
        "\n",
        "- El objetivo es elegir los valores de $x_1$ y $x_2$ que maximice $Z = 3x_1 + 5x_2$, sujeta a las restricciones impuestas sobre sus valores por las capacidades de producción limitadas de las cuales se disponen en las tres plantas.\n",
        "\n",
        "Restricciones:\n",
        "\n",
        "$$\n",
        "X_1 ≤ 4\\ (2) \\\\\n",
        "2x_2 \\le 12\\ (3) \\\\\n",
        "3x_1 + 2x_2 \\le 18\\ (3) \\\\\n",
        "x_1 \\le 0\\ (4) \\\\\n",
        "x_2 \\le 0\\ (5)\n",
        "$$"
      ],
      "metadata": {
        "id": "xv8M1UJvku8z"
      },
      "id": "xv8M1UJvku8z"
    },
    {
      "cell_type": "markdown",
      "id": "3bd6424e",
      "metadata": {
        "id": "3bd6424e"
      },
      "source": [
        "## Modelos de programacion lineal\n",
        "***\n",
        "1. instalamos las librerias necesarias (Scipy - Pulp)\n",
        "2. le damos RUn para confirmar instalacion\n",
        "\n",
        "para mas informacion puede visitar la pagina de la libreria https://pypi.org/project/PuLP/\n",
        "\n"
      ]
    },
    {
      "cell_type": "markdown",
      "source": [
        "###SciPy\n",
        "***\n",
        "La biblioteca SciPy (Scientific Python) es una biblioteca de Python utilizada para matemáticas, ciencia e ingeniería. SciPy se construye sobre NumPy y proporciona una gran cantidad de algoritmos y herramientas útiles para análisis de datos, optimización, integración, interpolación, álgebra lineal, estadística, y más. Aquí hay un resumen de algunas de las funcionalidades que ofrece SciPy:\n",
        "\n",
        "- Álgebra Lineal (scipy.linalg):\n",
        "\n",
        "Funciones para resolver sistemas de ecuaciones lineales, encontrar determinantes, y calcular descomposiciones matriciales (como LU, QR, SVD).\n",
        "- Optimización (scipy.optimize):\n",
        "\n",
        "Algoritmos para encontrar mínimos y máximos de funciones, resolver ecuaciones no lineales, y ajustar curvas.\n",
        "- Integración (scipy.integrate):\n",
        "\n",
        "Métodos para resolver integrales (cuadratura) y resolver ecuaciones diferenciales ordinarias.\n",
        "- Interpolación (scipy.interpolate):\n",
        "\n",
        "Herramientas para realizar interpolaciones unidimensionales y multidimensionales.\n",
        "- Estadística (scipy.stats):\n",
        "\n",
        "Funciones estadísticas y distribuciones de probabilidad para análisis de datos.\n",
        "- Procesamiento de Señales (scipy.signal):\n",
        "\n",
        "Funciones para trabajar con señales, incluyendo filtrado, transformadas y análisis de sistemas.\n",
        "- Procesamiento de Imágenes (scipy.ndimage):\n",
        "\n",
        "Funciones para el procesamiento de imágenes n-dimensionales.\n",
        "- Transformadas de Fourier (scipy.fftpack):\n",
        "\n",
        "Funciones para realizar transformadas de Fourier y análisis de señales en el dominio de la frecuencia.\n",
        "- Espaciado de Datos (scipy.spatial):\n",
        "\n",
        "Herramientas para trabajar con datos espaciales y computar distancias, triangulaciones y teselaciones de Voronoi.\n",
        "- Constantes Físicas (scipy.constants):\n",
        "\n",
        "Constantes físicas y matemáticas comunes."
      ],
      "metadata": {
        "id": "ba3xoEi4IqKi"
      },
      "id": "ba3xoEi4IqKi"
    },
    {
      "cell_type": "markdown",
      "source": [
        "###Pulp\n",
        "***\n",
        "es una biblioteca de Python que se utiliza para la programación lineal y la optimización matemática. Permite definir problemas de optimización de manera declarativa y resolverlos utilizando diversos solvers, como CBC, GLPK, y CPLEX. PuLP es especialmente útil para resolver problemas de optimización lineal (LP) y problemas de programación entera mixta (MILP).\n",
        "\n",
        "**Funcionalidades principales de PuLP** \\\n",
        "- Definición de Problemas de Optimización:\n",
        "\n",
        "Permite definir problemas de optimización utilizando variables de decisión, funciones objetivo y restricciones.\n",
        "\n",
        "- Solución de Problemas:\n",
        "\n",
        "Proporciona interfaces a varios solvers de optimización que pueden resolver problemas de programación lineal y de programación entera.\n",
        "Análisis de Resultados:\n",
        "\n",
        "Facilita la extracción y el análisis de los resultados después de la optimización."
      ],
      "metadata": {
        "id": "Yzyvt0VLKWU1"
      },
      "id": "Yzyvt0VLKWU1"
    },
    {
      "cell_type": "code",
      "execution_count": null,
      "id": "f6037372",
      "metadata": {
        "id": "f6037372",
        "outputId": "5e0a094e-db9a-4980-cf88-f2d92190d006",
        "colab": {
          "base_uri": "https://localhost:8080/"
        }
      },
      "outputs": [
        {
          "output_type": "stream",
          "name": "stdout",
          "text": [
            "Collecting pulp\n",
            "  Downloading PuLP-2.9.0-py3-none-any.whl.metadata (5.4 kB)\n",
            "Downloading PuLP-2.9.0-py3-none-any.whl (17.7 MB)\n",
            "\u001b[2K   \u001b[90m━━━━━━━━━━━━━━━━━━━━━━━━━━━━━━━━━━━━━━━━\u001b[0m \u001b[32m17.7/17.7 MB\u001b[0m \u001b[31m18.7 MB/s\u001b[0m eta \u001b[36m0:00:00\u001b[0m\n",
            "\u001b[?25hInstalling collected packages: pulp\n",
            "Successfully installed pulp-2.9.0\n"
          ]
        }
      ],
      "source": [
        "pip install pulp"
      ]
    },
    {
      "cell_type": "code",
      "execution_count": null,
      "id": "3a442539",
      "metadata": {
        "id": "3a442539",
        "outputId": "63b4d0de-f079-45fc-840b-08c5330bd54e",
        "colab": {
          "base_uri": "https://localhost:8080/"
        }
      },
      "outputs": [
        {
          "output_type": "stream",
          "name": "stdout",
          "text": [
            "Requirement already satisfied: scipy in /usr/local/lib/python3.10/dist-packages (1.13.1)\n",
            "Requirement already satisfied: numpy<2.3,>=1.22.4 in /usr/local/lib/python3.10/dist-packages (from scipy) (1.26.4)\n"
          ]
        }
      ],
      "source": [
        "pip install scipy"
      ]
    },
    {
      "cell_type": "markdown",
      "id": "050800e8",
      "metadata": {
        "id": "050800e8"
      },
      "source": [
        "Una vez instaladas, puedes importarlas en tus programas de Python y empezar a utilizarlas para resolver problemas de programación lineal\n",
        "\n"
      ]
    },
    {
      "cell_type": "code",
      "execution_count": null,
      "id": "628f6225",
      "metadata": {
        "id": "628f6225"
      },
      "outputs": [],
      "source": [
        "import pulp\n",
        "from scipy.optimize import linprog"
      ]
    },
    {
      "cell_type": "markdown",
      "id": "e2876181",
      "metadata": {
        "id": "e2876181"
      },
      "source": [
        "Las partes básicas de un código de programación lineal son:\n",
        "\n",
        "1. Definición del problema: En esta etapa, se definen las variables de decisión, la función objetivo y las restricciones del problema de programación lineal.\n",
        "\n",
        "2. Inicialización del problema: Se crea un objeto para representar el problema de optimización lineal.\n",
        "- **problema = pulp.LpProblem(\"MaximizarZ\", pulp.LpMaximize)**\n",
        "\n",
        "3. Definición de las variables: Se definen las variables de decisión y sus límites (si los tienen).\n",
        "4. Definición de la función objetivo: Se especifica si se quiere maximizar o minimizar una función lineal de las variables definidas anteriormente.\n",
        "5. Definición de las restricciones: Se especifican las restricciones que deben cumplir las variables de decisión.\n",
        "6. Resolución del problema: Se llama al solucionador para resolver el problema de optimización.\n",
        "7. Obtención de resultados: Se obtienen los valores óptimos de las variables de decisión y el valor óptimo de la función objetivo."
      ]
    },
    {
      "cell_type": "markdown",
      "id": "01ef1484",
      "metadata": {
        "id": "01ef1484"
      },
      "source": [
        "Hagamos el siguiente ejemplo:\\\n",
        "$\n",
        "Z_{max}=4_X+3_Y \\\\\n",
        "Sa:\\\\\n",
        "1. X\\ge0 \\\\\n",
        "2. Y\\ge2 \\\\\n",
        "3. 2Y\\le25-X \\\\\n",
        "4. 4Y\\ge2X-8 \\\\\n",
        "5. Y\\le2X-5 \\\\\n",
        "6. X_i ; Y_j \\ge 0\n",
        "$"
      ]
    },
    {
      "cell_type": "code",
      "execution_count": null,
      "id": "9a096b64",
      "metadata": {
        "id": "9a096b64",
        "outputId": "c1c077e5-44b3-4d3c-83e6-08489ebf3a3b",
        "colab": {
          "base_uri": "https://localhost:8080/"
        }
      },
      "outputs": [
        {
          "output_type": "stream",
          "name": "stdout",
          "text": [
            "Valor óptimo de x: 14.5\n",
            "Valor óptimo de y: 5.25\n",
            "Valor óptimo de la función objetivo: 73.75\n"
          ]
        }
      ],
      "source": [
        "## Inicialización del problema\n",
        "problema = pulp.LpProblem(\"MaximizarZ\", pulp.LpMaximize)\n",
        "\n",
        "## Definición de variables de decisión\n",
        "x = pulp.LpVariable('x', lowBound=0)\n",
        "y = pulp.LpVariable('y', lowBound=2)\n",
        "\n",
        "## Definición de la función objetivo\n",
        "problema += 4 * x + 3 * y, \"Z\"\n",
        "\n",
        "## Definición de restricciones\n",
        "problema += 2 * y <= 25 - x\n",
        "problema += 4 * y >= 2 * x - 8\n",
        "problema += y <= 2 * x - 5\n",
        "\n",
        "## Resolución del problema\n",
        "problema.solve();\n",
        "\n",
        "## Obtención de resultados\n",
        "print(\"Valor óptimo de x:\", pulp.value(x))\n",
        "print(\"Valor óptimo de y:\", pulp.value(y))\n",
        "print(\"Valor óptimo de la función objetivo:\", pulp.value(problema.objective))\n"
      ]
    },
    {
      "cell_type": "markdown",
      "id": "bee6007d",
      "metadata": {
        "id": "bee6007d"
      },
      "source": [
        "#### paso uno:\n",
        "Crear un objeto para representar el problema:\n",
        "\n",
        "Después de importar PuLP, se necesita crear un *objeto* para representar tu problema de optimización. Esto se hace utilizando la clase *LpProblem* de **PuLP**. Puedes darle un nombre descriptivo al problema como argumento. Por ejemplo: *problema = pulp.LpProblem(\"MiProblema\", pulp.LpMaximize)*\n",
        "\n",
        "en este caso el objeto se llama *MiProblema* que se va a *maximizar* (pulp.LpMaximize). Si deseas *minimizar* el objetivo, simplemente cambia **pulp.LpMaximize** por **pulp.LpMinimize**."
      ]
    },
    {
      "cell_type": "markdown",
      "id": "a20d3466",
      "metadata": {
        "id": "a20d3466"
      },
      "source": [
        "#### Paso Dos:\n",
        "**Definir las variables:**\n",
        "En PuLP, las variables de decisión se definen utilizando la clase *LpVariable*. Al crear una variable, puedes especificar su nombre, límites (si los hay) y si es una variable entera (cat='Integer') o continua (cat='Continuous'). La sintaxis básica es la siguiente:\n",
        "\n",
        "variable = pulp.LpVariable(\"NombreVariable\", lowBound=LimiteInferior, upBound=LimiteSuperior, cat='Tipo')\n",
        "\n",
        "1. \"NombreVariable\": Es el nombre que le das a la variable. Este nombre se utiliza para referirse a la variable en el código.\n",
        "2. lowBound: Es el límite inferior de la variable. Si no se especifica, se asume que es menos infinito.\n",
        "3. upBound: Es el límite superior de la variable. Si no se especifica, se asume que es más infinito.\n",
        "4. cat: Especifica si la variable es continua ('Continuous') o entera ('Integer'). Si no se especifica, se asume que es continua.\n",
        "\n",
        "por ejemplo:\n",
        "\n",
        "x = pulp.LpVariable(\"x\", lowBound=0)\n",
        "y = pulp.LpVariable(\"y\", lowBound=0)"
      ]
    },
    {
      "cell_type": "markdown",
      "id": "d0689683",
      "metadata": {
        "id": "d0689683"
      },
      "source": [
        "#### paso tres: Definir la función objetivo:\n",
        "En PuLP, la función objetivo se define utilizando el método += del objeto del problema. Este método permite agregar términos a la función objetivo. La sintaxis básica para agregar la función objetivo es la siguiente:\n",
        "\n",
        "problema += expresion_objetivo, \"NombreFuncionObjetivo\"\n",
        "donde:\n",
        "1. expresion_objetivo: Es la expresión matemática que representa la función objetivo en términos de las variables de decisión.\n",
        "2. \"NombreFuncionObjetivo\": Es un nombre descriptivo que se le da a la función objetivo.\n",
        "\n",
        "$\n",
        "Z_{max}=2_X+3_Y\n",
        "$\n",
        "\n",
        "problema += 2 * x + 3 * y, \"MaximizarZ\"\n"
      ]
    },
    {
      "cell_type": "markdown",
      "id": "a51e0399",
      "metadata": {
        "id": "a51e0399"
      },
      "source": [
        "#### Paso cuatro: definir las restricciones del sistema:\n",
        "**Definir las restricciones**\n",
        "Las restricciones se definen utilizando el método += del objeto del problema, de manera similar a cómo se define la función objetivo. La sintaxis básica para agregar una restricción es la siguiente:\n",
        "\n",
        "problema += expresion_restriccion, \"NombreRestriccion\"\n",
        "\n",
        "1. expresion_restriccion: Es la expresión matemática que representa la restricción en términos de las variables de decisión.\n",
        "2. \"NombreRestriccion\": Es un nombre descriptivo que se le da a la restricción.\n",
        "\n",
        "por ejemplo:\n",
        "\n",
        "1. problema += x + y <= 10, \"Restriccion1\"\n",
        "2. problema += 2 * x - y >= 5, \"Restriccion2\"\n",
        "\n"
      ]
    },
    {
      "cell_type": "markdown",
      "id": "372611e8",
      "metadata": {
        "id": "372611e8"
      },
      "source": [
        "#### Paso Cinco: resolver y mostrar resultado:\n",
        "\n",
        "**Resolver el problema:**\n",
        "Para resolver el problema de programación lineal, utilizamos el método *solve()* del objeto del problema. Este método llama al solucionador interno para encontrar la solución óptima.\n",
        "\n",
        "- problema.solve()\n",
        "\n",
        "**Obtener los resultados:**\n",
        "Después de resolver el problema, puedes obtener los valores óptimos de las variables de decisión y el valor óptimo de la función objetivo utilizando el método value() de la biblioteca PuLP. Por ejemplo:\n",
        "\n",
        "1. valor_optimo_x = pulp.value(x)\n",
        "2. valor_optimo_y = pulp.value(y)\n",
        "3. valor_optimo_funcion_objetivo = pulp.value(problema.objective)\n",
        "\n",
        "Puedes imprimir los resultados para mostrar los valores óptimos de las variables de decisión y el valor óptimo de la función objetivo.\n",
        "\n",
        "1. print(\"Valor óptimo de x:\", valor_optimo_x)\n",
        "2. print(\"Valor óptimo de y:\", valor_optimo_y)\n",
        "3. print(\"Valor óptimo de la función objetivo:\", valor_optimo_funcion_objetivo)\n",
        "\n"
      ]
    },
    {
      "cell_type": "markdown",
      "id": "b9c330f3",
      "metadata": {
        "id": "b9c330f3"
      },
      "source": [
        "# Metodo de dos variables\n"
      ]
    },
    {
      "cell_type": "markdown",
      "source": [
        "## optimizacion de problemas con dos variables:\n",
        "***\n",
        "\n",
        "Hay Situaciones que deben ser optimizadas donde solo se involucran dos variables, $X_i$ y $Y_j$ respectivamente, estos se eceuentran relacionados entre si en una liena recta, donde se da cumplimiento a los supuestos basicos de la Programacion lienal, los cuales son:\n",
        "\n",
        "1. **Proporcionalidad:** Los coeficientes de las variables en la función objetivo y en las restricciones deben ser constantes y lineales. Esto significa que los cambios en las variables se traducen en cambios proporcionales en la función objetivo y en las restricciones.\n",
        "\n",
        "2. **Aditividad:** La función objetivo y las restricciones deben ser aditivas, lo que significa que el valor total de la función objetivo y de las restricciones se obtiene sumando los valores individuales de cada componente.\n",
        "\n",
        "3. **Divisibilidad:** Las variables de decisión pueden tomar cualquier valor real dentro de un rango continuo. No se permiten valores discretos o restricciones de tipo \"todo o nada\".\n",
        "\n",
        "4. **Certidumbre:** Los valores de los coeficientes y las constantes en la función objetivo y en las restricciones se conocen con certeza y no varían durante el proceso de optimización.\n",
        "\n",
        "Fuente: https://www.studocu.com/co/messages/question/3996808/explique-los-4-supuestos-de-la-programacion-lineal\n",
        "\n",
        "Analizaremos la solución gráfica de una programación lineal (PL) con dos variables. Aun cuando en la práctica difícilmente ocurren problemas de dos variables,\n"
      ],
      "metadata": {
        "id": "7vtAqz0YfxYB"
      },
      "id": "7vtAqz0YfxYB"
    },
    {
      "cell_type": "markdown",
      "source": [
        "####Resolucion de problemas con dos variables:\n",
        "***\n",
        "\n",
        "- cada una de las restricciones del sistema podra ser graficado en un plano cartesiano donde, la limitacion de este y las zonas demarcadas por estas funciones, daran paso a lo que conocemos como **region de factibilidad** y en su defecto a las regiones no factibles, es decir zonas del plano donde los datos inmersos en los mismos seran posibles soluciones y numero pertencientes a las ecuaciones y zonas donde no, entonces el cruce de todas estas nuevas funciones en elplano iran sesgando de manera gradual las zonas formadas entre ellos, dejando visto la zona final de factibilidad asi como las intersecciones entre ellasm danco como resultado, no solo las zonas sino los valores o puntos donde se maximiza la funcion objetivo, cabe resaltar que todos estos puntos de soluciones factibles y optimas deberan ser evaluados por separado para la toma de desiciones.\n",
        "\n"
      ],
      "metadata": {
        "id": "bEQK-IMOhqJZ"
      },
      "id": "bEQK-IMOhqJZ"
    },
    {
      "cell_type": "markdown",
      "source": [
        "### Resolviendo un ejemplo por metodo grafico de forma manual\n",
        "\n",
        "Empresa XYZ produce pinturas para interiores y exteriores con dos materias primas, M1 y M2. La tabla siguiente proporciona los datos básicos del problema.\n",
        "\n",
        "\n",
        "\\begin{array}{|c|c|c|c|c|c|} \\hline\n",
        "&Pintura\\ exteriores&Pintura\\ interiores&Disponibilidad\\ Diaria\\ Maxima \\\\ \\hline\n",
        "Materia\\ prima\\ M_1&6&4&24 \\\\ \\hline\n",
        "Materia\\ Prima\\ M_2&1&2&6 \\\\ \\hline\n",
        "Utilidad\\ por\\ Tonelada(\\$1000) &5&4& \\hline\n",
        "\\hline\n",
        "\\end{array}\n",
        "\n",
        "- Una encuesta de mercado indica que la demanda diaria de pintura para interiores no puede exceder la de pintura para exteriores en más de una tonelada. Asimismo, que la demanda diaria máxima de pintura para interiores es de dos toneladas.\n",
        "\n",
        "- se propone determinar la (mejor) combinación óptima de pinturas para inte- riores y exteriores que maximice la utilidad diaria total.\n",
        "\n",
        "- necesitamos determinar las cantidades diarias que se deben producir de pinturas para exteriores e interiores. Así, las variables del modelo se definen\n",
        "como sigue:\n",
        " - $x_1$ Toneladas producidas diariamente de pintura para exteriores\n",
        " - $x_2$ Toneladas producidas diariamente de pintura para interiores\n",
        "\n",
        " La meta es maximizar (es decir, incrementar lo más posible) la utilidad diaria de ambas pinturas. Los dos componentes de la utilidad diaria total se expresan en función de las variables $x_1$ y $x_2$ como sigue:\n",
        "\n",
        "- Utilidad de la pintura para exteriores $5x_1$ (en miles de dólares\n",
        "- Utilidad de la pintura para interiores $4x_2$ (en miles de dólares)\n",
        "\n",
        "- Si $Z$ representa la **utilidad diaria total** (en miles de dólares), el *objetivo* (o meta) se expresa como sigue\n",
        "\n",
        "$$\n",
        "Maximizar\\ Z = 5x_1 + 4x_2\n",
        "$$\n",
        "\n",
        "- A continuación definimos las restricciones que limitan el consumo de las materias primas y la demanda del producto.\n",
        "\n",
        "$$\n",
        "- 6x_1 + 4x_2 \\le 24 (1) \\\\\n",
        "- x_1 + 2x_2 \\le 6 (2) \\\\\n",
        "- x_1 + x_2 \\le 1 (3) \\\\\n",
        "- x_2 \\le 2 (4) \\\\\n",
        "- x_1,x_2 \\ge 0 (5)\n",
        "$$"
      ],
      "metadata": {
        "id": "Wuh5RMaAnhAA"
      },
      "id": "Wuh5RMaAnhAA"
    },
    {
      "cell_type": "markdown",
      "source": [
        "#### Solucion Grafica de PL\n",
        "\n",
        "La solución gráfica incluye dos pasos:\n",
        "1. Determinar el espacio de soluciones factibles.\n",
        "2. Determinar la solución óptima de entre todos los puntos localizados en el espacio de soluciones.\n",
        "\n",
        "##### Paso 1.\n",
        "- Determinación del espacio de soluciones factibles.\n",
        "Considere las restricciones de no negatividad $x_1,x_2 \\ge 0 (5)$, el eje horizontal $x_1$ y el eje vertical $x_2$ representan las variables de pintura para exteriores e interiores, respectivamente. Así pues, las restricciones de no negatividad limitan las variables al primer cuadrante (sobre el eje $x_1$ y a la derecha del eje $x_2$).\n",
        "\n",
        "\n"
      ],
      "metadata": {
        "id": "AXP_2XDdr4MX"
      },
      "id": "AXP_2XDdr4MX"
    },
    {
      "cell_type": "code",
      "source": [
        "from google.colab import drive\n",
        "drive.mount('/content/drive')"
      ],
      "metadata": {
        "colab": {
          "base_uri": "https://localhost:8080/"
        },
        "id": "tLmFWx5cs-gh",
        "outputId": "4a648b0e-5be8-499f-8bae-8a5b1c866f64"
      },
      "id": "tLmFWx5cs-gh",
      "execution_count": null,
      "outputs": [
        {
          "output_type": "stream",
          "name": "stdout",
          "text": [
            "Mounted at /content/drive\n"
          ]
        }
      ]
    },
    {
      "cell_type": "markdown",
      "source": [
        "### Resolviendo PL de dos variables por Metodo Grafico con python\n",
        "\n",
        "ejercicio a realizar\n",
        "\n",
        "Tenemos el siguiente ejemplo\n",
        "$\n",
        "Z_{max}= 5x_1 + 4x_2\\\\\n",
        "sa:\\\\\n",
        "(1) 6x_1 + 4x_2 \\le 24\\\\\n",
        "(2) x_1 + 2x_2 \\le 6\\\\\n",
        "(3) -x_1 + x_2 \\le 1\\\\\n",
        "(4) x_2 \\le 2\\\\\n",
        "(5) x_1 \\ge 0\\\\\n",
        "(6) x_2 \\ge 0\\\\\n",
        "$\n",
        "\n",
        "1. vamos a plantearlo en codigo normal\n",
        "2. buscaremos las librerias correspondientes a los metodos grafico en jupiter notebook."
      ],
      "metadata": {
        "id": "rR7jncrheS4e"
      },
      "id": "rR7jncrheS4e"
    },
    {
      "cell_type": "code",
      "execution_count": null,
      "id": "73f10442",
      "metadata": {
        "id": "73f10442",
        "outputId": "3e7501e8-f192-45ff-d6b8-c062eafd43fe"
      },
      "outputs": [
        {
          "name": "stdout",
          "output_type": "stream",
          "text": [
            "Welcome to the CBC MILP Solver \n",
            "Version: 2.10.3 \n",
            "Build Date: Dec 15 2019 \n",
            "\n",
            "command line - /Users/cristianjaviercanomogollon/anaconda3/lib/python3.10/site-packages/pulp/solverdir/cbc/osx/64/cbc /var/folders/c5/v7gmryxx5clfs98nnyc30ys00000gn/T/815a8ba8740a4f38b1fce516f923b720-pulp.mps max timeMode elapsed branch printingOptions all solution /var/folders/c5/v7gmryxx5clfs98nnyc30ys00000gn/T/815a8ba8740a4f38b1fce516f923b720-pulp.sol (default strategy 1)\n",
            "At line 2 NAME          MODEL\n",
            "At line 3 ROWS\n",
            "At line 9 COLUMNS\n",
            "At line 19 RHS\n",
            "At line 24 BOUNDS\n",
            "At line 25 ENDATA\n",
            "Problem MODEL has 4 rows, 2 columns and 7 elements\n",
            "Coin0008I MODEL read with 0 errors\n",
            "Option for timeMode changed from cpu to elapsed\n",
            "Presolve 3 (-1) rows, 2 (0) columns and 6 (-1) elements\n",
            "0  Obj -0 Dual inf 8.999998 (2)\n",
            "2  Obj 21\n",
            "Optimal - objective value 21\n",
            "After Postsolve, objective 21, infeasibilities - dual 0 (0), primal 0 (0)\n",
            "Optimal objective 21 - 2 iterations time 0.002, Presolve 0.00\n",
            "Option for printingOptions changed from normal to all\n",
            "Total time (CPU seconds):       0.00   (Wallclock seconds):       0.01\n",
            "\n",
            "el valor optimo de X_1: 3.0\n",
            "el valor optimo de X_2: 1.5\n"
          ]
        }
      ],
      "source": [
        "import pulp\n",
        "from scipy.optimize import linprog\n",
        "problema= pulp.LpProblem(\"MaximizarZ\",pulp.LpMaximize)\n",
        "    #variables\n",
        "x1 = pulp.LpVariable(\"x1\", lowBound=0,)\n",
        "x2 = pulp.LpVariable(\"x2\", lowBound=0,)\n",
        "    #FO\n",
        "problema += (5*x1) + (4*x2), \"Zmax\"\n",
        "    #S.A:\n",
        "problema += (6*x1)+(4*x2) <= 24, \"R1\"\n",
        "problema += (1*x1)+(2*x2) <= 6, \"R2\"\n",
        "problema += (-1*x1)+(1*x2) <= 1, \"R3\"\n",
        "problema += (1*x2) <= 2, \"R4\"\n",
        "    #nota: la R de no negatividad se ejecuta cuando se define la variable x1,x2 --> lowbound=0\n",
        "problema.solve();\n",
        "    #resultado\n",
        "Voptimox1=pulp.value(x1)\n",
        "Voptimox2=pulp.value(x2)\n",
        "    #mostrar resultado\n",
        "print(\"el valor optimo de X_1:\",Voptimox1)\n",
        "print(\"el valor optimo de X_2:\",Voptimox2)"
      ]
    },
    {
      "cell_type": "markdown",
      "id": "c2a8619d",
      "metadata": {
        "id": "c2a8619d"
      },
      "source": [
        "En este caso, dado que tenemos dos variables $X_1$ y $X_2$, podemos graficar las restricciones en un plano cartesiano y encontrar la región factible, luego determinar el vértice de esta región que maximiza o minimiza la función objetivo.\n",
        "\n",
        "para esto necesitaremos dos librerias adicionales:\n",
        "1. import numpy as np\n",
        "2. import matplotlib.pyplot as plt\n",
        "\n",
        "Estas vienen por default en el sistema de lo contrario habria que instalarlas."
      ]
    },
    {
      "cell_type": "code",
      "execution_count": null,
      "id": "4e123e68",
      "metadata": {
        "id": "4e123e68"
      },
      "outputs": [],
      "source": [
        "import numpy as np\n",
        "import matplotlib.pyplot as plt"
      ]
    },
    {
      "cell_type": "markdown",
      "id": "e8ff9cb4",
      "metadata": {
        "id": "e8ff9cb4"
      },
      "source": [
        "los pasos para realizar un analisis grafico de una solucion son los mismos que ejecutamos de forma manual,\n",
        "debemos depejar las variables en funcion de su otra variable y proceder a la busqueda de los vertices del plano\n",
        "\n",
        "Ahora, graficaremos cada una de las restricciones en el plano cartesiano. Vamos a empezar con la restricción\n",
        "$\n",
        "(1) 6x_1 + 4x_2 \\le 24\\\\\n",
        "$\n",
        "despejamos $x_2$\n",
        "\n",
        "$\n",
        "X_2 \\le \\frac{24-6X_1}{4},\\  (Ecuacion\\ D_1)\n",
        "$\n",
        "\n",
        "graficaremos esta ecuación en el rango apropiado de $X_1$"
      ]
    },
    {
      "cell_type": "code",
      "execution_count": null,
      "id": "d809f034",
      "metadata": {
        "id": "d809f034",
        "outputId": "ef6e1cca-93b9-4cda-b716-a41cf9de484f"
      },
      "outputs": [
        {
          "data": {
            "image/png": "[encoded data removed]",
            "text/plain": [
              "<Figure size 640x480 with 1 Axes>"
            ]
          },
          "metadata": {},
          "output_type": "display_data"
        }
      ],
      "source": [
        "# Definimos el rango de valores que tomara X_1\n",
        "x1 = np.linspace(0, 6, 100)\n",
        "\n",
        "# Calculamos los valores correspondientes de x2 para la restricción 1, en el despeje o ecuacion D_1\n",
        "x2 = (24 - 6 * x1) / 4\n",
        "\n",
        "# Graficar la restricción 1\n",
        "plt.plot(x1, x2, label=r'$6x_1 + 4x_2 \\leq 24$')\n",
        "\n",
        "# Configuración del gráfico\n",
        "plt.xlabel('$x_1$')\n",
        "plt.ylabel('$x_2$')\n",
        "plt.title('Restricción 1')\n",
        "plt.xlim(0, 6)\n",
        "plt.ylim(0, 6)\n",
        "plt.grid(True)\n",
        "plt.legend()\n",
        "plt.show()\n"
      ]
    },
    {
      "cell_type": "markdown",
      "id": "6568a81b",
      "metadata": {
        "id": "6568a81b"
      },
      "source": [
        "podemos repetir el procedmiento con las demas restricciones\n",
        "\n",
        "#### Calcular los valores correspondientes de x2 para cada restricción\n",
        "1. x2_d1 = (24 - 6 * x1_values) / 4\n",
        "2. x2_d2 = (6 - x1_values) / 2\n",
        "3. x2_d3 = x1_values + 1\n",
        "\n",
        "#### Graficar todas las restricciones\n",
        "1. plt.plot(x1_values, x2_d1, label=r'$6x_1 + 4x_2 \\leq 24$')\n",
        "2. plt.plot(x1_values, x2_d2, label=r'$x_1 + 2x_2 \\leq 6$')\n",
        "3. plt.plot(x1_values, x2_d3, label=r'$-x_1 + x_2 \\leq 1$')\n",
        "\n",
        "para la restriccion de $X_2 \\le 2$ podemos usar la linea recta que pasa por 2\n",
        "\n",
        "1. plt.axhline(y=2, color='r', linestyle='--', label=r'$x_2 \\leq 2$')\n",
        "\n"
      ]
    },
    {
      "cell_type": "code",
      "execution_count": null,
      "id": "f5e507f5",
      "metadata": {
        "id": "f5e507f5",
        "outputId": "cf65f9ec-1a71-4ed3-dd2c-55afaecd2c85"
      },
      "outputs": [
        {
          "data": {
            "image/png": "[encoded data removed]",
            "text/plain": [
              "<Figure size 640x480 with 1 Axes>"
            ]
          },
          "metadata": {},
          "output_type": "display_data"
        }
      ],
      "source": [
        "x1 = np.linspace(0, 6, 100)\n",
        "\n",
        "x2_d1 = (24 - 6 * x1) / 4\n",
        "x2_d2 = (6 - x1) / 2\n",
        "x2_d3 = x1 + 1\n",
        "\n",
        "plt.plot(x1, x2_d1, label=r'$6x_1 + 4x_2 \\leq 24$')\n",
        "plt.plot(x1, x2_d2, label=r'$x_1 + 2x_2 \\leq 6$')\n",
        "plt.plot(x1, x2_d3, label=r'$-x_1 + x_2 \\leq 1$')\n",
        "\n",
        "# Restricción x2 <= 2\n",
        "plt.axhline(y=2, color='r', linestyle='--', label=r'$x_2 \\leq 2$')\n",
        "\n",
        "# Configuración del gráfico\n",
        "plt.xlabel('$x_1$')\n",
        "plt.ylabel('$x_2$')\n",
        "plt.title('Restricciones del problema')\n",
        "plt.xlim(0, 6)\n",
        "plt.ylim(0, 6)\n",
        "plt.grid(True)\n",
        "plt.legend()\n",
        "plt.show()\n"
      ]
    },
    {
      "cell_type": "markdown",
      "source": [
        "- Paso 2.\n",
        "\n",
        "*Determinación de la solución óptima:*\n",
        "La cantidad de puntos de solución en el espacio factible ABCDEF (intersectos) de la figura anterior es infinita. En consecuencia, se requiere un procedimiento sistemático para determinar la solución óptima.\n",
        "- En primer lugar, la dirección en la cual se incrementa la función de utilidad $Z =  5x_1 + 4x_2$ (recordemos que estamos maximizando z) se determina asignando valores crecientes arbitrarios a z.\n"
      ],
      "metadata": {
        "id": "QnJ9O2DmuenP"
      },
      "id": "QnJ9O2DmuenP"
    },
    {
      "cell_type": "markdown",
      "source": [
        "### Ejercicios de Metodo Grafico en Python:\n",
        "\n",
        "1. Una carpintería produce mesas y sillas. Cada mesa requiere 4 horas de carpintería y 3 horas de barnizado. Cada silla requiere 2 horas de carpintería y 1 hora de barnizado. La carpintería tiene disponibles 40 horas por semana, y el taller de barnizado, 20 horas por semana. La ganancia por mesa es de 50 dólares y por silla, 30 dólares. ¿Cuántas mesas y sillas debe producir la carpintería para maximizar su ganancia?\n",
        "\n",
        "2. Una empresa produce dos tipos de fertilizantes: A y B. El fertilizante A requiere 1 unidad de nitrógeno y 2 unidades de potasio por kilogramo, mientras que el fertilizante B requiere 2 unidades de nitrógeno y 1 unidad de potasio por kilogramo. Hay disponibles 10 unidades de nitrógeno y 8 unidades de potasio. El beneficio por kilogramo de fertilizante A es de 40 dólares y por kilogramo de fertilizante B es de 30 dólares. ¿Cuántos kilogramos de cada fertilizante debe producir la empresa para maximizar el beneficio?\n",
        "\n",
        "3. Una fábrica produce dos productos: P1 y P2. El producto P1 requiere 1 hora en la máquina A y 3 horas en la máquina B. El producto P2 requiere 2 horas en la máquina A y 2 horas en la máquina B. La máquina A tiene disponibles 16 horas por día y la máquina B tiene 24 horas por día. Si la ganancia por cada unidad de P1 es de 60 dólares y por cada unidad de P2 es de 50 dólares, ¿cuántas unidades de cada producto deben fabricarse diariamente para maximizar la ganancia?"
      ],
      "metadata": {
        "id": "pjDwwcoviIkk"
      },
      "id": "pjDwwcoviIkk"
    },
    {
      "cell_type": "markdown",
      "source": [
        "# Modelos con mas de dos variables"
      ],
      "metadata": {
        "id": "sBP3XWsH0qTH"
      },
      "id": "sBP3XWsH0qTH"
    },
    {
      "cell_type": "markdown",
      "source": [
        "los modelos con mas de dos variables son los que mas se usan en la actualidad ya que entre mas cerca a la realidad deseemos el modelo mas variables tendra que computar el altgoritmo, el gran inconveniente es nqu entre mas variables contenga mas *complejo* sera el sistema, hasta el punto donde tendremos que implementar softwares especiallizados para resolverlos."
      ],
      "metadata": {
        "id": "8vId6tYSuTAC"
      },
      "id": "8vId6tYSuTAC"
    },
    {
      "cell_type": "code",
      "source": [
        "import numpy as np\n",
        "import matplotlib.pyplot as plt\n",
        "\n",
        "# Función objetivo: Z = 3x + 4y\n",
        "def objective_function(x, y):\n",
        "    return 3*x + 4*y\n",
        "\n",
        "# Restricciones:\n",
        "def constraint1(x):\n",
        "    return 8 - 2*x\n",
        "\n",
        "def constraint2(x):\n",
        "    return (6 - x)/2\n",
        "\n",
        "# Rango de valores de x\n",
        "x = np.linspace(0, 5, 100)\n",
        "\n",
        "# Graficar restricciones\n",
        "plt.plot(x, constraint1(x), label=\"2x + y ≤ 8\")\n",
        "plt.plot(x, constraint2(x), label=\"x + 2y ≤ 6\")\n",
        "\n",
        "# Área factible\n",
        "plt.fill_between(x, np.minimum(constraint1(x), constraint2(x)), where=(x>=0) & (x<=5), alpha=0.2, color='gray', label=\"Área Factible\")\n",
        "\n",
        "# Etiquetas y leyenda\n",
        "plt.xlabel('x')\n",
        "plt.ylabel('y')\n",
        "plt.legend()\n",
        "\n",
        "# Vértices del área factible\n",
        "vertices_x = [0, 3, 5, 4]\n",
        "vertices_y = [4, 1, 0, 2]\n",
        "\n",
        "# Evaluar la función objetivo en los vértices\n",
        "values = [objective_function(x, y) for x, y in zip(vertices_x, vertices_y)]\n",
        "max_index = np.argmax(values)\n",
        "max_x, max_y = vertices_x[max_index], vertices_y[max_index]\n",
        "\n",
        "\n",
        "# Mostrar el gráfico\n",
        "plt.grid()\n",
        "plt.show()\n"
      ],
      "metadata": {
        "colab": {
          "base_uri": "https://localhost:8080/",
          "height": 449
        },
        "id": "VXzLnY2GrwCI",
        "outputId": "802a8286-8010-47f5-9a3c-02e9ab0aee11"
      },
      "execution_count": null,
      "outputs": [
        {
          "output_type": "display_data",
          "data": {
            "text/plain": [
              "<Figure size 640x480 with 1 Axes>"
            ],
            "image/png": "[encoded data removed]"
          },
          "metadata": {}
        }
      ],
      "id": "VXzLnY2GrwCI"
    },
    {
      "cell_type": "markdown",
      "id": "bdf3b758",
      "metadata": {
        "id": "bdf3b758"
      },
      "source": [
        "## Ejercicio de la Dieta:\n",
        "\n",
        "1. Ozark Farms consume diariamente un mínimo de 800 lb de un alimento especial, el cual es una mezcla de maíz y soya con las siguientes composiciones:\n",
        "\n",
        "\\begin{array}{|c|ccc|}\n",
        "\\hline\n",
        "Forraje & Proteina & Fibra & Costo (\\$/lb) \\\\\n",
        "\\hline\n",
        "Maiz    & 0,09     & 02    & 0,30          \\\\\n",
        "Soya    & 0,60     & 06    & 0,90   \\\\\n",
        "\\hline         \n",
        "\\end{array}\n",
        "\n",
        "Las necesidades dietéticas del alimento especial son un mínimo de 30\\% de proteína y un máximo de 5\\% de fibra. El objetivo es determinar la mezcla diaria de alimento a un costo mínimo.\n",
        "Las variables de decisión del modelo son:\n",
        "\n",
        "1. $X_1$: Libras de Maiz en la Mezcla Diaria\n",
        "2. $X_2$: Libras de Soya en la Mezcla Diaria \\\\\n",
        "\n",
        "### Resolvemos:\n",
        "\n",
        "1. paso uno: se debe plantear el modelo algebraico del problema.\n",
        "para eso usamos el editor de ecuaciones de jupyter notebook (google colab + python)\n",
        "\n",
        "1.1 El objetivo es minimizar el costo diario total (en dólares) de la mezcla de alimento, es decir,\n",
        "\n",
        "$$ Minimizar\\ Z; Z_{min}=0,30X_1 + 0,90X_2; \\ (1)$$\n",
        "\n",
        "2. definimos las restricciones del sistema:\n",
        "\n",
        "2.1 Las restricciones representan la cantidad diaria de la mezcla y las necesidades dietéticas. Ozark\n",
        "Farms requiere un mínimo de 800 lb de alimento al día, es decir,\n",
        "\n",
        "$$\n",
        "X_1 +X_2 \\ge 800; \\ (2)\n",
        "$$\n",
        "\n",
        "2.2 La cantidad de proteína contenida en $x_1$ libras de maíz y en $x_2$ libras de soya es ($0,09x_1$  $0,6x_2$) lb. Esta cantidad debe ser al menos igual al 30\\% de la mezcla de alimentos total ($x_1$ \" $x_2$) lb, es decir,\n",
        "\n",
        "$$\n",
        "0,09x_1 + 0,6x_2 \\ge 0,3(x_1 + x_2); \\ (3)\n",
        "$$\n",
        "\n",
        "2.3 Asimismo, la necesidad de fibra de 5\\% máximo se representa como sigue\n",
        "$$\n",
        "0,02x_1 + 0,06x_2 \\le 0,05(x_1 + x_2); \\ (4)\n",
        "$$\n",
        "\n",
        "2.4 Las restricciones se simplifican cambiando los términos en $x_1$ y $x_2$ al lado izquierdo de cada desigualdad, con sólo una constante del lado derecho. El modelo completo es:\n",
        "\n",
        "$$\n",
        "Z_{min}=0,30X_1 + 0,90X_2; \\ (1) \\\\\n",
        "sa: \\\\\n",
        "X_1 +X_2 \\ge 800; \\ (2)\\\\\n",
        "0,21x_1 - 0,30x_2 \\le 0; \\ (3)\\\\\n",
        "0,03x_1 + 0,01x_2 \\ge 0; \\ (4)\\\\\n",
        "X_2;X_1 \\ge 0\n",
        "$$\n"
      ]
    },
    {
      "cell_type": "code",
      "execution_count": null,
      "id": "1955f2f5",
      "metadata": {
        "id": "1955f2f5",
        "outputId": "cb49c06b-d24a-45c8-9771-679dff76f4c8"
      },
      "outputs": [
        {
          "name": "stdout",
          "output_type": "stream",
          "text": [
            "Welcome to the CBC MILP Solver \n",
            "Version: 2.10.3 \n",
            "Build Date: Dec 15 2019 \n",
            "\n",
            "command line - /Users/cristianjaviercanomogollon/anaconda3/lib/python3.10/site-packages/pulp/solverdir/cbc/osx/64/cbc /var/folders/c5/v7gmryxx5clfs98nnyc30ys00000gn/T/f4892d073e6949098b707a64989cc5d3-pulp.mps timeMode elapsed branch printingOptions all solution /var/folders/c5/v7gmryxx5clfs98nnyc30ys00000gn/T/f4892d073e6949098b707a64989cc5d3-pulp.sol (default strategy 1)\n",
            "At line 2 NAME          MODEL\n",
            "At line 3 ROWS\n",
            "At line 8 COLUMNS\n",
            "At line 17 RHS\n",
            "At line 21 BOUNDS\n",
            "At line 22 ENDATA\n",
            "Problem MODEL has 3 rows, 2 columns and 6 elements\n",
            "Coin0008I MODEL read with 0 errors\n",
            "Option for timeMode changed from cpu to elapsed\n",
            "Presolve 2 (-1) rows, 2 (0) columns and 4 (-2) elements\n",
            "0  Obj 0 Primal inf 800 (1)\n",
            "2  Obj 437.64706\n",
            "Optimal - objective value 437.64706\n",
            "After Postsolve, objective 437.64706, infeasibilities - dual 0 (0), primal 0 (0)\n",
            "Optimal objective 437.6470588 - 2 iterations time 0.002, Presolve 0.00\n",
            "Option for printingOptions changed from normal to all\n",
            "Total time (CPU seconds):       0.00   (Wallclock seconds):       0.02\n",
            "\n",
            "Valor óptimo de x1: 470.58824\n",
            "Valor óptimo de x2: 329.41176\n",
            "Valor óptimo de la función objetivo: 437.647056\n"
          ]
        }
      ],
      "source": [
        "import pulp\n",
        "from scipy.optimize import linprog\n",
        "problema= pulp.LpProblem(\"MinimizarZ\",pulp.LpMinimize)\n",
        "\n",
        "#variables\n",
        "x1 = pulp.LpVariable('x1', lowBound=0)\n",
        "x2 = pulp.LpVariable('x2', lowBound=0)\n",
        "\n",
        "#F.O\n",
        "problema += 0.3 * x1 + 0.9 * x2, \"Z\"\n",
        "\n",
        "#Restricciones\n",
        "problema += x1 + x2 >= 800\n",
        "problema += 0.21 * x1 - 0.30 * x2 <= 0\n",
        "problema += 0.03 * x1 + 0.01 * x2 >= 0\n",
        "\n",
        "## Resolución del problema\n",
        "problema.solve();\n",
        "\n",
        "## Obtención de resultados\n",
        "print(\"Valor óptimo de x1:\", pulp.value(x1))\n",
        "print(\"Valor óptimo de x2:\", pulp.value(x2))\n",
        "print(\"Valor óptimo de la función objetivo:\", pulp.value(problema.objective))\n"
      ]
    },
    {
      "cell_type": "markdown",
      "id": "f8cc528c",
      "metadata": {
        "id": "f8cc528c"
      },
      "source": [
        "### ejercicio del carpintero:\n",
        "\n",
        "Geppeto, el carpintero de un lejano pueblo, se ha dado cuenta de que la demanda de mecedoras y de taburetes este verano será muy alta. Por esta razón desea diseñar un plan de producción de estos artículos en su taller.\n",
        "La elaboración de cada producto requiere de piezas de madera en diferentes tamaños:\n",
        "- pequeñas\n",
        "- medianas\n",
        "- grandes.\n",
        "\n",
        "Una mecedora requiere, 18 piezas pequeñas, 9 medianas y 2 grandes; por otra parte, un taburete requiere 2 piezas pequeñas, 2 medianas y 1 grande.\n",
        "\n",
        "Revisando su bodega, Geppeto tiene 54, 30 y 30 piezas pequeñas, medianas y grandes, respectivamente. Finalmente, el precio de venta de cada producto\n",
        "es de 70 USD para mecedoras y 15 USD para taburetes.\n",
        "¿Cuántas mecedoras y taburetes debe fabricar Geppeto para maximizar sus utilidades con la materia prima disponible? (asuma que se venderá todo lo\n",
        "que se produzca).\n"
      ]
    },
    {
      "cell_type": "markdown",
      "source": [
        "# Metodo simplex\n",
        "\n",
        "Resolviendo un Problema de Programación Lineal Usando el Método Simplex:\n",
        "\n",
        "1. **Definir el problema**\n",
        "\n",
        "Identificar el contexto del problema. Establecer el objetivo (maximizar o minimizar) y las restricciones.\n",
        "\n",
        "2. **Definir las variables de decisión**\n",
        "\n",
        "Determina las variables que influirán en la solución. Cada variable representa una decisión a tomar.\n",
        "\n",
        "3. **Formular la función objetivo**\n",
        "\n",
        "Especifica la función objetivo que representa el valor que se busca optimizar (maximizar o minimizar).\n",
        "\n",
        "4. **Formular las restricciones**\n",
        "\n",
        "Expresa las limitaciones del problema en términos de las variables de decisión. Estas serán igualdades o desigualdades.\n",
        "\n",
        "5. **Convertir el problema en forma estándar**\n",
        "\n",
        "Las restricciones deben convertirse en igualdades añadiendo variables de holgura (slack variables) para el método simplex.\n",
        "\n",
        "6. **Crear la tabla simplex inicial**\n",
        "\n",
        "Organizar la función objetivo y las restricciones en una tabla para aplicar el método simplex. Incluir las variables de decisión y de holgura en las columnas.\n",
        "\n",
        "7. **Identificar la variable entrante**\n",
        "\n",
        "Determina la variable que debe entrar en la base (columna pivote) usando la columna con el valor más negativo en la fila Z.\n",
        "\n",
        "8. **Identificar la variable saliente**\n",
        "\n",
        "Calcula el cociente entre los valores del lado derecho (RHS) y los valores en la columna pivote, y selecciona el valor más pequeño positivo.\n",
        "\n",
        "9. **Realizar operaciones de pivote**\n",
        "\n",
        "Ajusta la tabla para actualizar las variables básicas (pivotar). Se asegura que la columna pivote tenga un 1 en la fila de la variable entrante y 0s en el resto.\n",
        "\n",
        "****\n",
        "\n"
      ],
      "metadata": {
        "id": "Jch6EL13GW0J"
      },
      "id": "Jch6EL13GW0J"
    }
  ],
  "metadata": {
    "celltoolbar": "Slideshow",
    "kernelspec": {
      "display_name": "Python 3 (ipykernel)",
      "language": "python",
      "name": "python3"
    },
    "language_info": {
      "codemirror_mode": {
        "name": "ipython",
        "version": 3
      },
      "file_extension": ".py",
      "mimetype": "text/x-python",
      "name": "python",
      "nbconvert_exporter": "python",
      "pygments_lexer": "ipython3",
      "version": "3.10.9"
    },
    "colab": {
      "provenance": [],
      "toc_visible": true
    }
  },
  "nbformat": 4,
  "nbformat_minor": 5
}